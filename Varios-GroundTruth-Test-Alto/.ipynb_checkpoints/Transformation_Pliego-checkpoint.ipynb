{
 "cells": [
  {
   "cell_type": "code",
   "execution_count": null,
   "id": "b98558cc",
   "metadata": {},
   "outputs": [],
   "source": [
    "import os\n",
    "import cv2\n",
    "import numpy as np\n",
    "from matplotlib import pyplot as plt\n",
    "from tqdm.notebook import tqdm"
   ]
  },
  {
   "cell_type": "code",
   "execution_count": 16,
   "id": "85d3a76b",
   "metadata": {},
   "outputs": [],
   "source": [
    "#Binary with TRESH_BINARY\n",
    "def transfobin(dossier_input:str, dossier_output):\n",
    "    if not os.path.isdir(dossier_output):\n",
    "        os.mkdir(dossier_output) \n",
    "    files = os.listdir(dossier_input)\n",
    "   \n",
    "    for f in tqdm(files): \n",
    "        img = os.path.join(dossier_input, f)\n",
    "        image = cv2.imread(img) \n",
    "        gray = cv2.cvtColor(image, cv2.COLOR_BGR2GRAY)\n",
    "        retval, th = cv2.threshold(gray, 150, 255, cv2.THRESH_BINARY)\n",
    "        path_save = os.path.join(dossier_output, f)\n",
    "        cv2.imwrite(path_save, th)"
   ]
  },
  {
   "cell_type": "code",
   "execution_count": 19,
   "id": "9efbe2ca",
   "metadata": {},
   "outputs": [],
   "source": [
    "#Binary with Otsu : it automatically finds the global threshold\n",
    "def transfoOTSU(dossier_input:str, dossier_output):\n",
    "    if not os.path.isdir(dossier_output):\n",
    "        os.mkdir(dossier_output) \n",
    "    files = os.listdir(dossier_input)\n",
    "   \n",
    "    for f in tqdm(files): \n",
    "        img = os.path.join(dossier_input, f)\n",
    "        image = cv2.imread(img) \n",
    "        gray = cv2.cvtColor(image, cv2.COLOR_BGR2GRAY)\n",
    "        retval, th = cv2.threshold(gray, 0, 255,cv2.THRESH_OTSU)\n",
    "        path_save = os.path.join(dossier_output, f)\n",
    "        cv2.imwrite(path_save, th)"
   ]
  },
  {
   "cell_type": "code",
   "execution_count": 17,
   "id": "12e8032f",
   "metadata": {
    "scrolled": true
   },
   "outputs": [
    {
     "data": {
      "application/vnd.jupyter.widget-view+json": {
       "model_id": "a4f9236db9764dbe8deed35fcb32e706",
       "version_major": 2,
       "version_minor": 0
      },
      "text/plain": [
       "  0%|          | 0/198 [00:00<?, ?it/s]"
      ]
     },
     "metadata": {},
     "output_type": "display_data"
    }
   ],
   "source": [
    "transfobin(dossier_input = \"../Varios-GT-Test/BGR\", dossier_output = \"../Varios-GT-Test/Varios-GroundTruth-binary\")"
   ]
  },
  {
   "cell_type": "code",
   "execution_count": 18,
   "id": "9fd0a1a1",
   "metadata": {},
   "outputs": [
    {
     "data": {
      "application/vnd.jupyter.widget-view+json": {
       "model_id": "328e25f033b744f2b86f5fbd149b3dfc",
       "version_major": 2,
       "version_minor": 0
      },
      "text/plain": [
       "  0%|          | 0/198 [00:00<?, ?it/s]"
      ]
     },
     "metadata": {},
     "output_type": "display_data"
    },
    {
     "ename": "NameError",
     "evalue": "name 'cv' is not defined",
     "output_type": "error",
     "traceback": [
      "\u001b[0;31m---------------------------------------------------------------------------\u001b[0m",
      "\u001b[0;31mNameError\u001b[0m                                 Traceback (most recent call last)",
      "\u001b[0;32m<ipython-input-18-6f6502931b77>\u001b[0m in \u001b[0;36m<module>\u001b[0;34m\u001b[0m\n\u001b[0;32m----> 1\u001b[0;31m \u001b[0mtransfoOTSU\u001b[0m\u001b[0;34m(\u001b[0m\u001b[0mdossier_input\u001b[0m \u001b[0;34m=\u001b[0m \u001b[0;34m\"../Varios-GT-Test/BGR\"\u001b[0m\u001b[0;34m,\u001b[0m \u001b[0mdossier_output\u001b[0m \u001b[0;34m=\u001b[0m \u001b[0;34m\"../Varios-GT-Test/GroundTruth-binary-Otsu\"\u001b[0m\u001b[0;34m)\u001b[0m\u001b[0;34m\u001b[0m\u001b[0;34m\u001b[0m\u001b[0m\n\u001b[0m",
      "\u001b[0;32m<ipython-input-3-fb93397785ce>\u001b[0m in \u001b[0;36mtransfoOTSU\u001b[0;34m(dossier_input, dossier_output)\u001b[0m\n\u001b[1;32m      8\u001b[0m         \u001b[0mimg\u001b[0m \u001b[0;34m=\u001b[0m \u001b[0mos\u001b[0m\u001b[0;34m.\u001b[0m\u001b[0mpath\u001b[0m\u001b[0;34m.\u001b[0m\u001b[0mjoin\u001b[0m\u001b[0;34m(\u001b[0m\u001b[0mdossier_input\u001b[0m\u001b[0;34m,\u001b[0m \u001b[0mf\u001b[0m\u001b[0;34m)\u001b[0m\u001b[0;34m\u001b[0m\u001b[0;34m\u001b[0m\u001b[0m\n\u001b[1;32m      9\u001b[0m         \u001b[0mimage\u001b[0m \u001b[0;34m=\u001b[0m \u001b[0mcv2\u001b[0m\u001b[0;34m.\u001b[0m\u001b[0mimread\u001b[0m\u001b[0;34m(\u001b[0m\u001b[0mimg\u001b[0m\u001b[0;34m)\u001b[0m\u001b[0;34m\u001b[0m\u001b[0;34m\u001b[0m\u001b[0m\n\u001b[0;32m---> 10\u001b[0;31m         \u001b[0mgray\u001b[0m \u001b[0;34m=\u001b[0m \u001b[0mcv2\u001b[0m\u001b[0;34m.\u001b[0m\u001b[0mcvtColor\u001b[0m\u001b[0;34m(\u001b[0m\u001b[0mimage\u001b[0m\u001b[0;34m,\u001b[0m \u001b[0mcv\u001b[0m\u001b[0;34m.\u001b[0m\u001b[0mCOLOR_BGR2GRAY\u001b[0m\u001b[0;34m)\u001b[0m\u001b[0;34m\u001b[0m\u001b[0;34m\u001b[0m\u001b[0m\n\u001b[0m\u001b[1;32m     11\u001b[0m         \u001b[0mretval\u001b[0m\u001b[0;34m,\u001b[0m \u001b[0mth\u001b[0m \u001b[0;34m=\u001b[0m \u001b[0mcv2\u001b[0m\u001b[0;34m.\u001b[0m\u001b[0mthreshold\u001b[0m\u001b[0;34m(\u001b[0m\u001b[0mgray\u001b[0m\u001b[0;34m,\u001b[0m \u001b[0;36m0\u001b[0m\u001b[0;34m,\u001b[0m \u001b[0;36m255\u001b[0m\u001b[0;34m,\u001b[0m\u001b[0mcv2\u001b[0m\u001b[0;34m.\u001b[0m\u001b[0mTHRESH_OTSU\u001b[0m\u001b[0;34m)\u001b[0m\u001b[0;34m\u001b[0m\u001b[0;34m\u001b[0m\u001b[0m\n\u001b[1;32m     12\u001b[0m         \u001b[0mpath_save\u001b[0m \u001b[0;34m=\u001b[0m \u001b[0mos\u001b[0m\u001b[0;34m.\u001b[0m\u001b[0mpath\u001b[0m\u001b[0;34m.\u001b[0m\u001b[0mjoin\u001b[0m\u001b[0;34m(\u001b[0m\u001b[0mdossier_output\u001b[0m\u001b[0;34m,\u001b[0m \u001b[0mf\u001b[0m\u001b[0;34m)\u001b[0m\u001b[0;34m\u001b[0m\u001b[0;34m\u001b[0m\u001b[0m\n",
      "\u001b[0;31mNameError\u001b[0m: name 'cv' is not defined"
     ]
    }
   ],
   "source": [
    "transfoOTSU(dossier_input = \"../Varios-GT-Test/BGR\", dossier_output = \"../Varios-GT-Test/GroundTruth-binary-Otsu\")"
   ]
  },
  {
   "cell_type": "code",
   "execution_count": null,
   "id": "1e6bb34b",
   "metadata": {},
   "outputs": [],
   "source": []
  }
 ],
 "metadata": {
  "kernelspec": {
   "display_name": "Python 3",
   "language": "python",
   "name": "python3"
  },
  "language_info": {
   "codemirror_mode": {
    "name": "ipython",
    "version": 3
   },
   "file_extension": ".py",
   "mimetype": "text/x-python",
   "name": "python",
   "nbconvert_exporter": "python",
   "pygments_lexer": "ipython3",
   "version": "3.8.8"
  }
 },
 "nbformat": 4,
 "nbformat_minor": 5
}
