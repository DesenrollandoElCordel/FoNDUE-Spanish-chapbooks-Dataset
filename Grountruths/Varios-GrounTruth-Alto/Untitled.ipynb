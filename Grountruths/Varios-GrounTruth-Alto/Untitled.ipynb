{
 "cells": [
  {
   "cell_type": "code",
   "execution_count": 6,
   "id": "aa07d934",
   "metadata": {},
   "outputs": [],
   "source": [
    "import os\n",
    "import xml.etree.ElementTree as ET"
   ]
  },
  {
   "cell_type": "code",
   "execution_count": 7,
   "id": "63b8eede",
   "metadata": {},
   "outputs": [],
   "source": [
    "cd = \"/Users/Mac-Pauline/Documents/Sandoz/Varios-OCR-files/Grountruths/Varios-GrounTruth-Alto/Test\"\n",
    "list_folder = \"/Users/Mac-Pauline/Documents/Sandoz/Varios-OCR-files/Grountruths/Varios-GrounTruth-Alto/Test\""
   ]
  },
  {
   "cell_type": "code",
   "execution_count": 8,
   "id": "373b7b3b",
   "metadata": {},
   "outputs": [
    {
     "name": "stdout",
     "output_type": "stream",
     "text": [
      "[]\n"
     ]
    }
   ],
   "source": [
    "for subdir, dirs, files in os.walk(list_folder):\n",
    "        list_file = []\n",
    "        print(list_file)"
   ]
  },
  {
   "cell_type": "code",
   "execution_count": null,
   "id": "a073db98",
   "metadata": {},
   "outputs": [],
   "source": []
  },
  {
   "cell_type": "code",
   "execution_count": 9,
   "id": "6de3202c",
   "metadata": {},
   "outputs": [
    {
     "name": "stdout",
     "output_type": "stream",
     "text": [
      "/Users/Mac-Pauline/Documents/Sandoz/Varios-OCR-files/Grountruths/Varios-GrounTruth-Alto/Test/Varios_142_4.xml\n",
      "['Varios_142_4.xml']\n",
      "/Users/Mac-Pauline/Documents/Sandoz/Varios-OCR-files/Grountruths/Varios-GrounTruth-Alto/Test/Varios_142_2.xml\n",
      "['Varios_142_2.xml', 'Varios_142_4.xml']\n",
      "/Users/Mac-Pauline/Documents/Sandoz/Varios-OCR-files/Grountruths/Varios-GrounTruth-Alto/Test/Varios_142_3.xml\n",
      "['Varios_142_2.xml', 'Varios_142_3.xml', 'Varios_142_4.xml']\n",
      "/Users/Mac-Pauline/Documents/Sandoz/Varios-OCR-files/Grountruths/Varios-GrounTruth-Alto/Test/Varios_142_1.xml\n",
      "['Varios_142_1.xml', 'Varios_142_2.xml', 'Varios_142_3.xml', 'Varios_142_4.xml']\n"
     ]
    }
   ],
   "source": [
    "for file in files:\n",
    "        if not file.endswith('.DS_Store') | file.endswith('.jpg') |file.endswith('mets.xml') | file.startswith('Masterfile'):\n",
    "            print(os.path.join(subdir, file)) \n",
    "            label, ext = os.path.splitext(file) \n",
    "            list_file.append(file)  # On ajoute les fichiers .xml à la liste\n",
    "            list_file.sort()  # On les organise par ordre alphabétique\n",
    "            print(list_file)\n",
    "\n",
    "            # Création du fichier xml avec pour racine <master>\n",
    "            root = ET.Element(\"master\", attrib={\"xmlns:xi\": \"http://www.w3.org/2001/XInclude\"})\n",
    "            \n",
    "            for x in list_file:  # On itère dans la liste des fichiers .xml\n",
    "                ET.SubElement(root, \"xi:include\", {\"href\": x})  # Pour chaque fichier, on crée un élément <xi:include>, enfant de master\n",
    "\n",
    "            tree = ET.ElementTree(root)  # On organise les éléments en arbre XML\n",
    "            masterfile_name = 'Masterfile_' + label[:10] + '.xml'  # On crée le nom du masterfile\n",
    "            masterfile_path = os.path.join(subdir, masterfile_name)  # On crée le chemin du masterfile\n",
    "            tree.write(masterfile_path, encoding=\"UTF-8\", xml_declaration=True, method=\"xml\")  # On crée le fichier .xml\n",
    "            "
   ]
  },
  {
   "cell_type": "code",
   "execution_count": null,
   "id": "d86a36b2",
   "metadata": {},
   "outputs": [],
   "source": []
  }
 ],
 "metadata": {
  "kernelspec": {
   "display_name": "Python 3",
   "language": "python",
   "name": "python3"
  },
  "language_info": {
   "codemirror_mode": {
    "name": "ipython",
    "version": 3
   },
   "file_extension": ".py",
   "mimetype": "text/x-python",
   "name": "python",
   "nbconvert_exporter": "python",
   "pygments_lexer": "ipython3",
   "version": "3.8.8"
  }
 },
 "nbformat": 4,
 "nbformat_minor": 5
}
