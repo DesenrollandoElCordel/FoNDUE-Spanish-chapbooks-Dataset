{
 "cells": [
  {
   "cell_type": "code",
   "execution_count": 1,
   "id": "b98558cc",
   "metadata": {},
   "outputs": [],
   "source": [
    "import os\n",
    "import cv2\n",
    "import numpy as np\n",
    "from matplotlib import pyplot as plt\n",
    "from tqdm.notebook import tqdm"
   ]
  },
  {
   "cell_type": "code",
   "execution_count": 2,
   "id": "85d3a76b",
   "metadata": {},
   "outputs": [],
   "source": [
    "#Binary with TRESH_BINARY\n",
    "def transfobin(dossier_input:str, dossier_output):\n",
    "    if not os.path.isdir(dossier_output):\n",
    "        os.mkdir(dossier_output) \n",
    "    files = os.listdir(dossier_input)\n",
    "   \n",
    "    for f in tqdm(files): \n",
    "        img = os.path.join(dossier_input, f)\n",
    "        image = cv2.imread(img) \n",
    "        gray = cv2.cvtColor(image, cv2.COLOR_BGR2GRAY)\n",
    "        retval, th = cv2.threshold(gray, 150, 255, cv2.THRESH_BINARY)\n",
    "        path_save = os.path.join(dossier_output, f)\n",
    "        cv2.imwrite(path_save, th)"
   ]
  },
  {
   "cell_type": "code",
   "execution_count": 3,
   "id": "9efbe2ca",
   "metadata": {},
   "outputs": [],
   "source": [
    "#Binary with Otsu : it automatically finds the global threshold\n",
    "def transfoOTSU(dossier_input:str, dossier_output):\n",
    "    if not os.path.isdir(dossier_output):\n",
    "        os.mkdir(dossier_output) \n",
    "    files = os.listdir(dossier_input)\n",
    "   \n",
    "    for f in tqdm(files): \n",
    "        img = os.path.join(dossier_input, f)\n",
    "        image = cv2.imread(img) \n",
    "        gray = cv2.cvtColor(image, cv2.COLOR_BGR2GRAY)\n",
    "        retval, th = cv2.threshold(gray, 0, 255,cv2.THRESH_OTSU)\n",
    "        path_save = os.path.join(dossier_output, f)\n",
    "        cv2.imwrite(path_save, th)"
   ]
  },
  {
   "cell_type": "code",
   "execution_count": 6,
   "id": "12e8032f",
   "metadata": {
    "scrolled": true
   },
   "outputs": [
    {
     "data": {
      "application/vnd.jupyter.widget-view+json": {
       "model_id": "3d7762146235459199cd79df248d9db9",
       "version_major": 2,
       "version_minor": 0
      },
      "text/plain": [
       "  0%|          | 0/198 [00:00<?, ?it/s]"
      ]
     },
     "metadata": {},
     "output_type": "display_data"
    }
   ],
   "source": [
    "transfobin(dossier_input = \"../Varios-GroundTruth-Test-Alto/BGR\", dossier_output = \"../Varios-GroundTruth-Test-Alto/Varios-GroundTruth-binary/\")"
   ]
  },
  {
   "cell_type": "code",
   "execution_count": 8,
   "id": "9fd0a1a1",
   "metadata": {},
   "outputs": [
    {
     "data": {
      "application/vnd.jupyter.widget-view+json": {
       "model_id": "4ad437bc3ea448ad8e21c834a8e064ff",
       "version_major": 2,
       "version_minor": 0
      },
      "text/plain": [
       "  0%|          | 0/198 [00:00<?, ?it/s]"
      ]
     },
     "metadata": {},
     "output_type": "display_data"
    }
   ],
   "source": [
    "transfoOTSU(dossier_input = \"../Varios-GroundTruth-Test-Alto/BGR\", dossier_output = \"../Varios-GroundTruth-Test-Alto/GroundTruth-binary-Otsu\")"
   ]
  },
  {
   "cell_type": "code",
   "execution_count": null,
   "id": "1e6bb34b",
   "metadata": {},
   "outputs": [],
   "source": []
  }
 ],
 "metadata": {
  "kernelspec": {
   "display_name": "Python 3",
   "language": "python",
   "name": "python3"
  },
  "language_info": {
   "codemirror_mode": {
    "name": "ipython",
    "version": 3
   },
   "file_extension": ".py",
   "mimetype": "text/x-python",
   "name": "python",
   "nbconvert_exporter": "python",
   "pygments_lexer": "ipython3",
   "version": "3.8.8"
  }
 },
 "nbformat": 4,
 "nbformat_minor": 5
}
