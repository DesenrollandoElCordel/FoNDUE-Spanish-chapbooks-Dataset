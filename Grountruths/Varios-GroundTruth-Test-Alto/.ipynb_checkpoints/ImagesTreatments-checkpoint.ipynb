{
 "cells": [
  {
   "cell_type": "code",
   "execution_count": 1,
   "id": "b98558cc",
   "metadata": {},
   "outputs": [],
   "source": [
    "import os\n",
    "import cv2\n",
    "import numpy as np\n",
    "import scipy.ndimage\n",
    "from skimage.filters import (threshold_niblack, threshold_sauvola)\n",
    "from skimage.io import imsave\n",
    "from skimage import (img_as_ubyte, exposure)\n",
    "from tqdm.notebook import tqdm"
   ]
  },
  {
   "cell_type": "markdown",
   "id": "57174f10",
   "metadata": {},
   "source": [
    "## Binary with TRESH_BINARY"
   ]
  },
  {
   "cell_type": "code",
   "execution_count": 3,
   "id": "85d3a76b",
   "metadata": {},
   "outputs": [],
   "source": [
    "def Bin(dossier_input:str, dossier_output):\n",
    "    if not os.path.isdir(dossier_output):\n",
    "        os.mkdir(dossier_output) \n",
    "    files = os.listdir(dossier_input)\n",
    "   \n",
    "    for f in tqdm(files): \n",
    "        img = os.path.join(dossier_input, f)\n",
    "        image = cv2.imread(img) \n",
    "        gray = cv2.cvtColor(image, cv2.COLOR_BGR2GRAY)\n",
    "        retval, th = cv2.threshold(gray, 150, 255, cv2.THRESH_BINARY)\n",
    "        path_save = os.path.join(dossier_output, f)\n",
    "        cv2.imwrite(path_save, th)"
   ]
  },
  {
   "cell_type": "code",
   "execution_count": 4,
   "id": "f8f8b450",
   "metadata": {},
   "outputs": [
    {
     "data": {
      "application/vnd.jupyter.widget-view+json": {
       "model_id": "5468acf359dc47358e9c0b921d4a5b77",
       "version_major": 2,
       "version_minor": 0
      },
      "text/plain": [
       "  0%|          | 0/198 [00:00<?, ?it/s]"
      ]
     },
     "metadata": {},
     "output_type": "display_data"
    }
   ],
   "source": [
    "Bin(dossier_input = \"../Varios-GroundTruth-Test-Alto/BGR\", dossier_output = \"../Varios-GroundTruth-Test-Alto/Varios-GroundTruth-binary\")"
   ]
  },
  {
   "cell_type": "markdown",
   "id": "298d08e0",
   "metadata": {},
   "source": [
    "# Binary with Otsu\n",
    "\n",
    "It automatically finds the global threshold. \n",
    "_Cf._ Nobuyuki Otsu (1979). \"A threshold selection method from gray-level histograms\". IEEE Trans. Sys. Man. Cyber.  9 (1): 62–66. [DOI: 10.1109/TSMC.1979.4310076](https://ieeexplore.ieee.org/document/4310076)."
   ]
  },
  {
   "cell_type": "code",
   "execution_count": 5,
   "id": "9efbe2ca",
   "metadata": {},
   "outputs": [],
   "source": [
    "def OTSU(dossier_input:str, dossier_output):\n",
    "    if not os.path.isdir(dossier_output):\n",
    "        os.mkdir(dossier_output) \n",
    "    files = os.listdir(dossier_input)\n",
    "   \n",
    "    for f in tqdm(files): \n",
    "        img = os.path.join(dossier_input, f)\n",
    "        image = cv2.imread(img) \n",
    "        gray = cv2.cvtColor(image, cv2.COLOR_BGR2GRAY)\n",
    "        retval, th = cv2.threshold(gray, 0, 255,cv2.THRESH_OTSU)\n",
    "        path_save = os.path.join(dossier_output, f)\n",
    "        cv2.imwrite(path_save, th)"
   ]
  },
  {
   "cell_type": "code",
   "execution_count": 6,
   "id": "8bcb5f8e",
   "metadata": {},
   "outputs": [
    {
     "data": {
      "application/vnd.jupyter.widget-view+json": {
       "model_id": "36a5b1d1a34340f1b1292656f8ce7723",
       "version_major": 2,
       "version_minor": 0
      },
      "text/plain": [
       "  0%|          | 0/198 [00:00<?, ?it/s]"
      ]
     },
     "metadata": {},
     "output_type": "display_data"
    }
   ],
   "source": [
    "OTSU(dossier_input = \"../Varios-GroundTruth-Test-Alto/BGR\", dossier_output = \"../Varios-GroundTruth-Test-Alto/GroundTruth-binary-Otsu\")"
   ]
  },
  {
   "cell_type": "markdown",
   "id": "c31d9531",
   "metadata": {},
   "source": [
    "# Binary with Niblack\n",
    "\n",
    "The Niblack algorithm determines a threshold value for each pixel by dragging a window across the image. \n",
    "_Cf_. : W. Niblack, An introduction to Digital Image Processing, Prentice-Hall, 1986. "
   ]
  },
  {
   "cell_type": "code",
   "execution_count": 2,
   "id": "9ff83e36",
   "metadata": {},
   "outputs": [],
   "source": [
    "def Niblack(dossier_input:str, dossier_output):\n",
    "    if not os.path.isdir(dossier_output):\n",
    "        os.mkdir(dossier_output) \n",
    "    files = os.listdir(dossier_input)\n",
    "   \n",
    "    for f in tqdm(files): \n",
    "        img = os.path.join(dossier_input, f)\n",
    "        image = cv2.imread(img) \n",
    "        gray = cv2.cvtColor(image, cv2.COLOR_BGR2GRAY)\n",
    "        thresh_niblack = threshold_niblack(gray, window_size=219, k=0.9)\n",
    "        niblack = gray > thresh_niblack\n",
    "        binary_niblack = img_as_ubyte(niblack)\n",
    "        path_save = os.path.join(dossier_output, f)\n",
    "        imsave(path_save, binary_niblack)"
   ]
  },
  {
   "cell_type": "code",
   "execution_count": 8,
   "id": "0ff2c2f5",
   "metadata": {},
   "outputs": [
    {
     "data": {
      "application/vnd.jupyter.widget-view+json": {
       "model_id": "3f33397614024b8896f1deb6450c9b99",
       "version_major": 2,
       "version_minor": 0
      },
      "text/plain": [
       "  0%|          | 0/198 [00:00<?, ?it/s]"
      ]
     },
     "metadata": {},
     "output_type": "display_data"
    }
   ],
   "source": [
    "Niblack(dossier_input = \"../Varios-GroundTruth-Test-Alto/BGR\", dossier_output = \"../Varios-GroundTruth-Test-Alto/GroundTruth-binary-Niblack\")"
   ]
  },
  {
   "cell_type": "markdown",
   "id": "c39a9523",
   "metadata": {},
   "source": [
    "# Binary with Sauvola\n",
    "\n",
    "Modification of the Niblack technique Niblack algorithm with calculation of the maximum standard deviation of a greyscale image. \n",
    "_Cf_. : J. Sauvola and M. Pietikainen, “Adaptive document image binarization,” Pattern Recognition 33(2), pp. 225-236, 2000. DOI:10.1016/S0031-3203(99)00055-2 [DOI:10.1109/83.366472](https://www.sciencedirect.com/science/article/abs/pii/S0031320399000552?via%3Dihub)."
   ]
  },
  {
   "cell_type": "code",
   "execution_count": 9,
   "id": "81f41c85",
   "metadata": {},
   "outputs": [],
   "source": [
    "def Sauvola(dossier_input:str, dossier_output):\n",
    "    if not os.path.isdir(dossier_output):\n",
    "        os.mkdir(dossier_output) \n",
    "    files = os.listdir(dossier_input)\n",
    "   \n",
    "    for f in tqdm(files): \n",
    "        img = os.path.join(dossier_input, f)\n",
    "        image = cv2.imread(img) \n",
    "        gray = cv2.cvtColor(image, cv2.COLOR_BGR2GRAY)\n",
    "        thresh_sauvola = threshold_sauvola(gray, window_size=219)\n",
    "        sauvola = gray > thresh_sauvola\n",
    "        binary_sauvola = img_as_ubyte(sauvola)\n",
    "        path_save = os.path.join(dossier_output, f)\n",
    "        imsave(path_save, binary_sauvola)"
   ]
  },
  {
   "cell_type": "code",
   "execution_count": 10,
   "id": "316b8bfd",
   "metadata": {},
   "outputs": [
    {
     "data": {
      "application/vnd.jupyter.widget-view+json": {
       "model_id": "7c2bab39f90946beb437a51697b655e9",
       "version_major": 2,
       "version_minor": 0
      },
      "text/plain": [
       "  0%|          | 0/198 [00:00<?, ?it/s]"
      ]
     },
     "metadata": {},
     "output_type": "display_data"
    }
   ],
   "source": [
    "Sauvola(dossier_input = \"../Varios-GroundTruth-Test-Alto/BGR\", dossier_output = \"../Varios-GroundTruth-Test-Alto/GroundTruth-binary-Sauvola\")"
   ]
  },
  {
   "cell_type": "markdown",
   "id": "3b42adae",
   "metadata": {},
   "source": [
    "# Deblur \n",
    "\n",
    "With a simple sharpening kernels using cv2.filter2D."
   ]
  },
  {
   "cell_type": "code",
   "execution_count": 11,
   "id": "9e4dc3d2",
   "metadata": {},
   "outputs": [],
   "source": [
    "def Deblur(dossier_input:str, dossier_output):\n",
    "    if not os.path.isdir(dossier_output):\n",
    "        os.mkdir(dossier_output) \n",
    "    files = os.listdir(dossier_input)\n",
    "   \n",
    "    for f in tqdm(files): \n",
    "        img = os.path.join(dossier_input, f)\n",
    "        image = cv2.imread(img) \n",
    "        sharpening = np.array([[-1,-1,-1], [-1,9,-1], [-1,-1,-1]])\n",
    "        deblur = cv2.filter2D(image, -1, sharpening)\n",
    "        path_save = os.path.join(dossier_output, f)\n",
    "        cv2.imwrite(path_save, deblur)"
   ]
  },
  {
   "cell_type": "code",
   "execution_count": 12,
   "id": "1e95587c",
   "metadata": {},
   "outputs": [
    {
     "data": {
      "application/vnd.jupyter.widget-view+json": {
       "model_id": "392c6d9da6664e24b0d9fd91202696b3",
       "version_major": 2,
       "version_minor": 0
      },
      "text/plain": [
       "  0%|          | 0/198 [00:00<?, ?it/s]"
      ]
     },
     "metadata": {},
     "output_type": "display_data"
    }
   ],
   "source": [
    "Deblur(dossier_input = \"../Varios-GroundTruth-Test-Alto/BGR\", dossier_output = \"../Varios-GroundTruth-Test-Alto/GroundTruth-deblur\")"
   ]
  },
  {
   "cell_type": "markdown",
   "id": "ceeba142",
   "metadata": {},
   "source": [
    "# Gamma correction\n",
    "Brightness correction through gamma exposure transformation. \n",
    "Gamma1 to brighten the image; Gamma2 to darken the image."
   ]
  },
  {
   "cell_type": "code",
   "execution_count": 13,
   "id": "75047c75",
   "metadata": {},
   "outputs": [],
   "source": [
    "def Gamma1(dossier_input:str, dossier_output):\n",
    "    if not os.path.isdir(dossier_output):\n",
    "        os.mkdir(dossier_output) \n",
    "    files = os.listdir(dossier_input)\n",
    "   \n",
    "    for f in tqdm(files): \n",
    "        img = os.path.join(dossier_input, f)\n",
    "        image = cv2.imread(img) \n",
    "        image_gamma = exposure.adjust_gamma(image, gamma = 0.9)\n",
    "        path_save = os.path.join(dossier_output, f)\n",
    "        cv2.imwrite(path_save, image_gamma)"
   ]
  },
  {
   "cell_type": "code",
   "execution_count": 14,
   "id": "4b0c7a3b",
   "metadata": {},
   "outputs": [
    {
     "data": {
      "application/vnd.jupyter.widget-view+json": {
       "model_id": "13b0e15a8d0847e799136074422f995e",
       "version_major": 2,
       "version_minor": 0
      },
      "text/plain": [
       "  0%|          | 0/198 [00:00<?, ?it/s]"
      ]
     },
     "metadata": {},
     "output_type": "display_data"
    }
   ],
   "source": [
    "Gamma1(dossier_input = \"../Varios-GroundTruth-Test-Alto/BGR\", dossier_output = \"../Varios-GroundTruth-Test-Alto/GroundTruth-gamma1\")"
   ]
  },
  {
   "cell_type": "code",
   "execution_count": 15,
   "id": "ca60d8e3",
   "metadata": {},
   "outputs": [],
   "source": [
    "def Gamma2(dossier_input:str, dossier_output):\n",
    "    if not os.path.isdir(dossier_output):\n",
    "        os.mkdir(dossier_output) \n",
    "    files = os.listdir(dossier_input)\n",
    "   \n",
    "    for f in tqdm(files): \n",
    "        img = os.path.join(dossier_input, f)\n",
    "        image = cv2.imread(img) \n",
    "        image_gamma = exposure.adjust_gamma(image, gamma = 2.25)\n",
    "        path_save = os.path.join(dossier_output, f)\n",
    "        cv2.imwrite(path_save, image_gamma)"
   ]
  },
  {
   "cell_type": "code",
   "execution_count": 16,
   "id": "4ea449a3",
   "metadata": {},
   "outputs": [
    {
     "data": {
      "application/vnd.jupyter.widget-view+json": {
       "model_id": "44aec9a776aa4b99ab132b61cf0aa1cc",
       "version_major": 2,
       "version_minor": 0
      },
      "text/plain": [
       "  0%|          | 0/198 [00:00<?, ?it/s]"
      ]
     },
     "metadata": {},
     "output_type": "display_data"
    }
   ],
   "source": [
    "Gamma2(dossier_input = \"../Varios-GroundTruth-Test-Alto/BGR\", dossier_output = \"../Varios-GroundTruth-Test-Alto/GroundTruth-gamma2\")"
   ]
  },
  {
   "cell_type": "markdown",
   "id": "446244ca",
   "metadata": {},
   "source": [
    "# Gamma2 + Niblack"
   ]
  },
  {
   "cell_type": "code",
   "execution_count": 3,
   "id": "f8178025",
   "metadata": {},
   "outputs": [
    {
     "data": {
      "application/vnd.jupyter.widget-view+json": {
       "model_id": "6662dcdd7cac4744ae64a5fbc5bb57e0",
       "version_major": 2,
       "version_minor": 0
      },
      "text/plain": [
       "  0%|          | 0/198 [00:00<?, ?it/s]"
      ]
     },
     "metadata": {},
     "output_type": "display_data"
    }
   ],
   "source": [
    "Niblack(dossier_input = \"../Varios-GroundTruth-Test-Alto/GroundTruth-gamma2\", dossier_output = \"../Varios-GroundTruth-Test-Alto/GroundTruth-Gamma2+Niblack\")"
   ]
  },
  {
   "cell_type": "code",
   "execution_count": null,
   "id": "7b3f4d53",
   "metadata": {},
   "outputs": [],
   "source": []
  }
 ],
 "metadata": {
  "kernelspec": {
   "display_name": "Python 3",
   "language": "python",
   "name": "python3"
  },
  "language_info": {
   "codemirror_mode": {
    "name": "ipython",
    "version": 3
   },
   "file_extension": ".py",
   "mimetype": "text/x-python",
   "name": "python",
   "nbconvert_exporter": "python",
   "pygments_lexer": "ipython3",
   "version": "3.8.8"
  }
 },
 "nbformat": 4,
 "nbformat_minor": 5
}
